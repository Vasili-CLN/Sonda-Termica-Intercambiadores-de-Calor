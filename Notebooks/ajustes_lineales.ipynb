{
 "cells": [
  {
   "cell_type": "code",
   "execution_count": 6,
   "metadata": {
    "scrolled": true
   },
   "outputs": [
    {
     "data": {
      "text/html": [
       "\n",
       "    <div class=\"bk-root\">\n",
       "        <a href=\"https://bokeh.org\" target=\"_blank\" class=\"bk-logo bk-logo-small bk-logo-notebook\"></a>\n",
       "        <span id=\"1003\">Loading BokehJS ...</span>\n",
       "    </div>"
      ]
     },
     "metadata": {},
     "output_type": "display_data"
    },
    {
     "data": {
      "application/javascript": [
       "\n",
       "(function(root) {\n",
       "  function now() {\n",
       "    return new Date();\n",
       "  }\n",
       "\n",
       "  const force = true;\n",
       "\n",
       "  if (typeof root._bokeh_onload_callbacks === \"undefined\" || force === true) {\n",
       "    root._bokeh_onload_callbacks = [];\n",
       "    root._bokeh_is_loading = undefined;\n",
       "  }\n",
       "\n",
       "  const JS_MIME_TYPE = 'application/javascript';\n",
       "  const HTML_MIME_TYPE = 'text/html';\n",
       "  const EXEC_MIME_TYPE = 'application/vnd.bokehjs_exec.v0+json';\n",
       "  const CLASS_NAME = 'output_bokeh rendered_html';\n",
       "\n",
       "  /**\n",
       "   * Render data to the DOM node\n",
       "   */\n",
       "  function render(props, node) {\n",
       "    const script = document.createElement(\"script\");\n",
       "    node.appendChild(script);\n",
       "  }\n",
       "\n",
       "  /**\n",
       "   * Handle when an output is cleared or removed\n",
       "   */\n",
       "  function handleClearOutput(event, handle) {\n",
       "    const cell = handle.cell;\n",
       "\n",
       "    const id = cell.output_area._bokeh_element_id;\n",
       "    const server_id = cell.output_area._bokeh_server_id;\n",
       "    // Clean up Bokeh references\n",
       "    if (id != null && id in Bokeh.index) {\n",
       "      Bokeh.index[id].model.document.clear();\n",
       "      delete Bokeh.index[id];\n",
       "    }\n",
       "\n",
       "    if (server_id !== undefined) {\n",
       "      // Clean up Bokeh references\n",
       "      const cmd_clean = \"from bokeh.io.state import curstate; print(curstate().uuid_to_server['\" + server_id + \"'].get_sessions()[0].document.roots[0]._id)\";\n",
       "      cell.notebook.kernel.execute(cmd_clean, {\n",
       "        iopub: {\n",
       "          output: function(msg) {\n",
       "            const id = msg.content.text.trim();\n",
       "            if (id in Bokeh.index) {\n",
       "              Bokeh.index[id].model.document.clear();\n",
       "              delete Bokeh.index[id];\n",
       "            }\n",
       "          }\n",
       "        }\n",
       "      });\n",
       "      // Destroy server and session\n",
       "      const cmd_destroy = \"import bokeh.io.notebook as ion; ion.destroy_server('\" + server_id + \"')\";\n",
       "      cell.notebook.kernel.execute(cmd_destroy);\n",
       "    }\n",
       "  }\n",
       "\n",
       "  /**\n",
       "   * Handle when a new output is added\n",
       "   */\n",
       "  function handleAddOutput(event, handle) {\n",
       "    const output_area = handle.output_area;\n",
       "    const output = handle.output;\n",
       "\n",
       "    // limit handleAddOutput to display_data with EXEC_MIME_TYPE content only\n",
       "    if ((output.output_type != \"display_data\") || (!Object.prototype.hasOwnProperty.call(output.data, EXEC_MIME_TYPE))) {\n",
       "      return\n",
       "    }\n",
       "\n",
       "    const toinsert = output_area.element.find(\".\" + CLASS_NAME.split(' ')[0]);\n",
       "\n",
       "    if (output.metadata[EXEC_MIME_TYPE][\"id\"] !== undefined) {\n",
       "      toinsert[toinsert.length - 1].firstChild.textContent = output.data[JS_MIME_TYPE];\n",
       "      // store reference to embed id on output_area\n",
       "      output_area._bokeh_element_id = output.metadata[EXEC_MIME_TYPE][\"id\"];\n",
       "    }\n",
       "    if (output.metadata[EXEC_MIME_TYPE][\"server_id\"] !== undefined) {\n",
       "      const bk_div = document.createElement(\"div\");\n",
       "      bk_div.innerHTML = output.data[HTML_MIME_TYPE];\n",
       "      const script_attrs = bk_div.children[0].attributes;\n",
       "      for (let i = 0; i < script_attrs.length; i++) {\n",
       "        toinsert[toinsert.length - 1].firstChild.setAttribute(script_attrs[i].name, script_attrs[i].value);\n",
       "        toinsert[toinsert.length - 1].firstChild.textContent = bk_div.children[0].textContent\n",
       "      }\n",
       "      // store reference to server id on output_area\n",
       "      output_area._bokeh_server_id = output.metadata[EXEC_MIME_TYPE][\"server_id\"];\n",
       "    }\n",
       "  }\n",
       "\n",
       "  function register_renderer(events, OutputArea) {\n",
       "\n",
       "    function append_mime(data, metadata, element) {\n",
       "      // create a DOM node to render to\n",
       "      const toinsert = this.create_output_subarea(\n",
       "        metadata,\n",
       "        CLASS_NAME,\n",
       "        EXEC_MIME_TYPE\n",
       "      );\n",
       "      this.keyboard_manager.register_events(toinsert);\n",
       "      // Render to node\n",
       "      const props = {data: data, metadata: metadata[EXEC_MIME_TYPE]};\n",
       "      render(props, toinsert[toinsert.length - 1]);\n",
       "      element.append(toinsert);\n",
       "      return toinsert\n",
       "    }\n",
       "\n",
       "    /* Handle when an output is cleared or removed */\n",
       "    events.on('clear_output.CodeCell', handleClearOutput);\n",
       "    events.on('delete.Cell', handleClearOutput);\n",
       "\n",
       "    /* Handle when a new output is added */\n",
       "    events.on('output_added.OutputArea', handleAddOutput);\n",
       "\n",
       "    /**\n",
       "     * Register the mime type and append_mime function with output_area\n",
       "     */\n",
       "    OutputArea.prototype.register_mime_type(EXEC_MIME_TYPE, append_mime, {\n",
       "      /* Is output safe? */\n",
       "      safe: true,\n",
       "      /* Index of renderer in `output_area.display_order` */\n",
       "      index: 0\n",
       "    });\n",
       "  }\n",
       "\n",
       "  // register the mime type if in Jupyter Notebook environment and previously unregistered\n",
       "  if (root.Jupyter !== undefined) {\n",
       "    const events = require('base/js/events');\n",
       "    const OutputArea = require('notebook/js/outputarea').OutputArea;\n",
       "\n",
       "    if (OutputArea.prototype.mime_types().indexOf(EXEC_MIME_TYPE) == -1) {\n",
       "      register_renderer(events, OutputArea);\n",
       "    }\n",
       "  }\n",
       "\n",
       "  \n",
       "  if (typeof (root._bokeh_timeout) === \"undefined\" || force === true) {\n",
       "    root._bokeh_timeout = Date.now() + 5000;\n",
       "    root._bokeh_failed_load = false;\n",
       "  }\n",
       "\n",
       "  const NB_LOAD_WARNING = {'data': {'text/html':\n",
       "     \"<div style='background-color: #fdd'>\\n\"+\n",
       "     \"<p>\\n\"+\n",
       "     \"BokehJS does not appear to have successfully loaded. If loading BokehJS from CDN, this \\n\"+\n",
       "     \"may be due to a slow or bad network connection. Possible fixes:\\n\"+\n",
       "     \"</p>\\n\"+\n",
       "     \"<ul>\\n\"+\n",
       "     \"<li>re-rerun `output_notebook()` to attempt to load from CDN again, or</li>\\n\"+\n",
       "     \"<li>use INLINE resources instead, as so:</li>\\n\"+\n",
       "     \"</ul>\\n\"+\n",
       "     \"<code>\\n\"+\n",
       "     \"from bokeh.resources import INLINE\\n\"+\n",
       "     \"output_notebook(resources=INLINE)\\n\"+\n",
       "     \"</code>\\n\"+\n",
       "     \"</div>\"}};\n",
       "\n",
       "  function display_loaded() {\n",
       "    const el = document.getElementById(\"1003\");\n",
       "    if (el != null) {\n",
       "      el.textContent = \"BokehJS is loading...\";\n",
       "    }\n",
       "    if (root.Bokeh !== undefined) {\n",
       "      if (el != null) {\n",
       "        el.textContent = \"BokehJS \" + root.Bokeh.version + \" successfully loaded.\";\n",
       "      }\n",
       "    } else if (Date.now() < root._bokeh_timeout) {\n",
       "      setTimeout(display_loaded, 100)\n",
       "    }\n",
       "  }\n",
       "\n",
       "\n",
       "  function run_callbacks() {\n",
       "    try {\n",
       "      root._bokeh_onload_callbacks.forEach(function(callback) {\n",
       "        if (callback != null)\n",
       "          callback();\n",
       "      });\n",
       "    } finally {\n",
       "      delete root._bokeh_onload_callbacks\n",
       "    }\n",
       "    console.debug(\"Bokeh: all callbacks have finished\");\n",
       "  }\n",
       "\n",
       "  function load_libs(css_urls, js_urls, callback) {\n",
       "    if (css_urls == null) css_urls = [];\n",
       "    if (js_urls == null) js_urls = [];\n",
       "\n",
       "    root._bokeh_onload_callbacks.push(callback);\n",
       "    if (root._bokeh_is_loading > 0) {\n",
       "      console.debug(\"Bokeh: BokehJS is being loaded, scheduling callback at\", now());\n",
       "      return null;\n",
       "    }\n",
       "    if (js_urls == null || js_urls.length === 0) {\n",
       "      run_callbacks();\n",
       "      return null;\n",
       "    }\n",
       "    console.debug(\"Bokeh: BokehJS not loaded, scheduling load and callback at\", now());\n",
       "    root._bokeh_is_loading = css_urls.length + js_urls.length;\n",
       "\n",
       "    function on_load() {\n",
       "      root._bokeh_is_loading--;\n",
       "      if (root._bokeh_is_loading === 0) {\n",
       "        console.debug(\"Bokeh: all BokehJS libraries/stylesheets loaded\");\n",
       "        run_callbacks()\n",
       "      }\n",
       "    }\n",
       "\n",
       "    function on_error(url) {\n",
       "      console.error(\"failed to load \" + url);\n",
       "    }\n",
       "\n",
       "    for (let i = 0; i < css_urls.length; i++) {\n",
       "      const url = css_urls[i];\n",
       "      const element = document.createElement(\"link\");\n",
       "      element.onload = on_load;\n",
       "      element.onerror = on_error.bind(null, url);\n",
       "      element.rel = \"stylesheet\";\n",
       "      element.type = \"text/css\";\n",
       "      element.href = url;\n",
       "      console.debug(\"Bokeh: injecting link tag for BokehJS stylesheet: \", url);\n",
       "      document.body.appendChild(element);\n",
       "    }\n",
       "\n",
       "    for (let i = 0; i < js_urls.length; i++) {\n",
       "      const url = js_urls[i];\n",
       "      const element = document.createElement('script');\n",
       "      element.onload = on_load;\n",
       "      element.onerror = on_error.bind(null, url);\n",
       "      element.async = false;\n",
       "      element.src = url;\n",
       "      console.debug(\"Bokeh: injecting script tag for BokehJS library: \", url);\n",
       "      document.head.appendChild(element);\n",
       "    }\n",
       "  };\n",
       "\n",
       "  function inject_raw_css(css) {\n",
       "    const element = document.createElement(\"style\");\n",
       "    element.appendChild(document.createTextNode(css));\n",
       "    document.body.appendChild(element);\n",
       "  }\n",
       "\n",
       "  \n",
       "  const js_urls = [\"https://cdn.bokeh.org/bokeh/release/bokeh-2.4.1.min.js\", \"https://cdn.bokeh.org/bokeh/release/bokeh-gl-2.4.1.min.js\", \"https://cdn.bokeh.org/bokeh/release/bokeh-widgets-2.4.1.min.js\", \"https://cdn.bokeh.org/bokeh/release/bokeh-tables-2.4.1.min.js\", \"https://cdn.bokeh.org/bokeh/release/bokeh-mathjax-2.4.1.min.js\"];\n",
       "  const css_urls = [];\n",
       "  \n",
       "\n",
       "  const inline_js = [\n",
       "    function(Bokeh) {\n",
       "      Bokeh.set_log_level(\"info\");\n",
       "    },\n",
       "    function(Bokeh) {\n",
       "    \n",
       "    \n",
       "    }\n",
       "  ];\n",
       "\n",
       "  function run_inline_js() {\n",
       "    \n",
       "    if (root.Bokeh !== undefined || force === true) {\n",
       "      \n",
       "    for (let i = 0; i < inline_js.length; i++) {\n",
       "      inline_js[i].call(root, root.Bokeh);\n",
       "    }\n",
       "    if (force === true) {\n",
       "        display_loaded();\n",
       "      }} else if (Date.now() < root._bokeh_timeout) {\n",
       "      setTimeout(run_inline_js, 100);\n",
       "    } else if (!root._bokeh_failed_load) {\n",
       "      console.log(\"Bokeh: BokehJS failed to load within specified timeout.\");\n",
       "      root._bokeh_failed_load = true;\n",
       "    } else if (force !== true) {\n",
       "      const cell = $(document.getElementById(\"1003\")).parents('.cell').data().cell;\n",
       "      cell.output_area.append_execute_result(NB_LOAD_WARNING)\n",
       "    }\n",
       "\n",
       "  }\n",
       "\n",
       "  if (root._bokeh_is_loading === 0) {\n",
       "    console.debug(\"Bokeh: BokehJS loaded, going straight to plotting\");\n",
       "    run_inline_js();\n",
       "  } else {\n",
       "    load_libs(css_urls, js_urls, function() {\n",
       "      console.debug(\"Bokeh: BokehJS plotting callback run at\", now());\n",
       "      run_inline_js();\n",
       "    });\n",
       "  }\n",
       "}(window));"
      ],
      "application/vnd.bokehjs_load.v0+json": "\n(function(root) {\n  function now() {\n    return new Date();\n  }\n\n  const force = true;\n\n  if (typeof root._bokeh_onload_callbacks === \"undefined\" || force === true) {\n    root._bokeh_onload_callbacks = [];\n    root._bokeh_is_loading = undefined;\n  }\n\n  \n\n  \n  if (typeof (root._bokeh_timeout) === \"undefined\" || force === true) {\n    root._bokeh_timeout = Date.now() + 5000;\n    root._bokeh_failed_load = false;\n  }\n\n  const NB_LOAD_WARNING = {'data': {'text/html':\n     \"<div style='background-color: #fdd'>\\n\"+\n     \"<p>\\n\"+\n     \"BokehJS does not appear to have successfully loaded. If loading BokehJS from CDN, this \\n\"+\n     \"may be due to a slow or bad network connection. Possible fixes:\\n\"+\n     \"</p>\\n\"+\n     \"<ul>\\n\"+\n     \"<li>re-rerun `output_notebook()` to attempt to load from CDN again, or</li>\\n\"+\n     \"<li>use INLINE resources instead, as so:</li>\\n\"+\n     \"</ul>\\n\"+\n     \"<code>\\n\"+\n     \"from bokeh.resources import INLINE\\n\"+\n     \"output_notebook(resources=INLINE)\\n\"+\n     \"</code>\\n\"+\n     \"</div>\"}};\n\n  function display_loaded() {\n    const el = document.getElementById(\"1003\");\n    if (el != null) {\n      el.textContent = \"BokehJS is loading...\";\n    }\n    if (root.Bokeh !== undefined) {\n      if (el != null) {\n        el.textContent = \"BokehJS \" + root.Bokeh.version + \" successfully loaded.\";\n      }\n    } else if (Date.now() < root._bokeh_timeout) {\n      setTimeout(display_loaded, 100)\n    }\n  }\n\n\n  function run_callbacks() {\n    try {\n      root._bokeh_onload_callbacks.forEach(function(callback) {\n        if (callback != null)\n          callback();\n      });\n    } finally {\n      delete root._bokeh_onload_callbacks\n    }\n    console.debug(\"Bokeh: all callbacks have finished\");\n  }\n\n  function load_libs(css_urls, js_urls, callback) {\n    if (css_urls == null) css_urls = [];\n    if (js_urls == null) js_urls = [];\n\n    root._bokeh_onload_callbacks.push(callback);\n    if (root._bokeh_is_loading > 0) {\n      console.debug(\"Bokeh: BokehJS is being loaded, scheduling callback at\", now());\n      return null;\n    }\n    if (js_urls == null || js_urls.length === 0) {\n      run_callbacks();\n      return null;\n    }\n    console.debug(\"Bokeh: BokehJS not loaded, scheduling load and callback at\", now());\n    root._bokeh_is_loading = css_urls.length + js_urls.length;\n\n    function on_load() {\n      root._bokeh_is_loading--;\n      if (root._bokeh_is_loading === 0) {\n        console.debug(\"Bokeh: all BokehJS libraries/stylesheets loaded\");\n        run_callbacks()\n      }\n    }\n\n    function on_error(url) {\n      console.error(\"failed to load \" + url);\n    }\n\n    for (let i = 0; i < css_urls.length; i++) {\n      const url = css_urls[i];\n      const element = document.createElement(\"link\");\n      element.onload = on_load;\n      element.onerror = on_error.bind(null, url);\n      element.rel = \"stylesheet\";\n      element.type = \"text/css\";\n      element.href = url;\n      console.debug(\"Bokeh: injecting link tag for BokehJS stylesheet: \", url);\n      document.body.appendChild(element);\n    }\n\n    for (let i = 0; i < js_urls.length; i++) {\n      const url = js_urls[i];\n      const element = document.createElement('script');\n      element.onload = on_load;\n      element.onerror = on_error.bind(null, url);\n      element.async = false;\n      element.src = url;\n      console.debug(\"Bokeh: injecting script tag for BokehJS library: \", url);\n      document.head.appendChild(element);\n    }\n  };\n\n  function inject_raw_css(css) {\n    const element = document.createElement(\"style\");\n    element.appendChild(document.createTextNode(css));\n    document.body.appendChild(element);\n  }\n\n  \n  const js_urls = [\"https://cdn.bokeh.org/bokeh/release/bokeh-2.4.1.min.js\", \"https://cdn.bokeh.org/bokeh/release/bokeh-gl-2.4.1.min.js\", \"https://cdn.bokeh.org/bokeh/release/bokeh-widgets-2.4.1.min.js\", \"https://cdn.bokeh.org/bokeh/release/bokeh-tables-2.4.1.min.js\", \"https://cdn.bokeh.org/bokeh/release/bokeh-mathjax-2.4.1.min.js\"];\n  const css_urls = [];\n  \n\n  const inline_js = [\n    function(Bokeh) {\n      Bokeh.set_log_level(\"info\");\n    },\n    function(Bokeh) {\n    \n    \n    }\n  ];\n\n  function run_inline_js() {\n    \n    if (root.Bokeh !== undefined || force === true) {\n      \n    for (let i = 0; i < inline_js.length; i++) {\n      inline_js[i].call(root, root.Bokeh);\n    }\n    if (force === true) {\n        display_loaded();\n      }} else if (Date.now() < root._bokeh_timeout) {\n      setTimeout(run_inline_js, 100);\n    } else if (!root._bokeh_failed_load) {\n      console.log(\"Bokeh: BokehJS failed to load within specified timeout.\");\n      root._bokeh_failed_load = true;\n    } else if (force !== true) {\n      const cell = $(document.getElementById(\"1003\")).parents('.cell').data().cell;\n      cell.output_area.append_execute_result(NB_LOAD_WARNING)\n    }\n\n  }\n\n  if (root._bokeh_is_loading === 0) {\n    console.debug(\"Bokeh: BokehJS loaded, going straight to plotting\");\n    run_inline_js();\n  } else {\n    load_libs(css_urls, js_urls, function() {\n      console.debug(\"Bokeh: BokehJS plotting callback run at\", now());\n      run_inline_js();\n    });\n  }\n}(window));"
     },
     "metadata": {},
     "output_type": "display_data"
    }
   ],
   "source": [
    "#Las Siguientes lineas no requieren de ninguna modificación, \n",
    "#son las librerias necesarias para el funcionamiento de la libreta\n",
    "%matplotlib inline\n",
    "import pandas as pd\n",
    "import numpy as np\n",
    "import matplotlib.pyplot as plt\n",
    "from bokeh.plotting import figure, output_file, show\n",
    "from bokeh.io import output_notebook\n",
    "import matplotlib.colors as colors\n",
    "from pylab import * \n",
    "output_notebook()\n",
    "\n",
    "#archivo1='../Thingsboard/filtrados.csv'\n",
    "archivo1='../Thingsboard/marzo_2020.csv'\n",
    "\n",
    "columnas  = ['ts','T1','T2','T3','T4','T5','T6','T7','A1','A2','A3','A4','A5','A6','A7']\n",
    "def importa(archivo,columnas):\n",
    "    \n",
    "    tmp = pd.read_csv(archivo,header=None,sep=',',names = columnas,skiprows=2)\n",
    "    #tmp = pd.read_csv(archivo,header=None,sep=',',names = columnas,skiprows=200)\n",
    "    tmp=tmp.set_index('ts')\n",
    "    tmp=tmp.dropna()\n",
    "    return tmp\n"
   ]
  },
  {
   "cell_type": "code",
   "execution_count": 20,
   "metadata": {
    "scrolled": false
   },
   "outputs": [
    {
     "data": {
      "text/html": [
       "<div>\n",
       "<style scoped>\n",
       "    .dataframe tbody tr th:only-of-type {\n",
       "        vertical-align: middle;\n",
       "    }\n",
       "\n",
       "    .dataframe tbody tr th {\n",
       "        vertical-align: top;\n",
       "    }\n",
       "\n",
       "    .dataframe thead th {\n",
       "        text-align: right;\n",
       "    }\n",
       "</style>\n",
       "<table border=\"1\" class=\"dataframe\">\n",
       "  <thead>\n",
       "    <tr style=\"text-align: right;\">\n",
       "      <th></th>\n",
       "      <th>T1</th>\n",
       "      <th>T2</th>\n",
       "      <th>T3</th>\n",
       "      <th>T4</th>\n",
       "      <th>T5</th>\n",
       "      <th>T6</th>\n",
       "      <th>T7</th>\n",
       "      <th>A1</th>\n",
       "      <th>A2</th>\n",
       "      <th>A3</th>\n",
       "      <th>A4</th>\n",
       "      <th>A5</th>\n",
       "      <th>A6</th>\n",
       "      <th>A7</th>\n",
       "    </tr>\n",
       "    <tr>\n",
       "      <th>ts</th>\n",
       "      <th></th>\n",
       "      <th></th>\n",
       "      <th></th>\n",
       "      <th></th>\n",
       "      <th></th>\n",
       "      <th></th>\n",
       "      <th></th>\n",
       "      <th></th>\n",
       "      <th></th>\n",
       "      <th></th>\n",
       "      <th></th>\n",
       "      <th></th>\n",
       "      <th></th>\n",
       "      <th></th>\n",
       "    </tr>\n",
       "  </thead>\n",
       "  <tbody>\n",
       "    <tr>\n",
       "      <th>2020-03-23 12:29:00</th>\n",
       "      <td>-127</td>\n",
       "      <td>21.6250</td>\n",
       "      <td>22.8125</td>\n",
       "      <td>22.8125</td>\n",
       "      <td>85.0</td>\n",
       "      <td>22.75</td>\n",
       "      <td>22.6875</td>\n",
       "      <td>22.0</td>\n",
       "      <td>22.1</td>\n",
       "      <td>22.1</td>\n",
       "      <td>22.1</td>\n",
       "      <td>22.0</td>\n",
       "      <td>20.8</td>\n",
       "      <td>20.8</td>\n",
       "    </tr>\n",
       "    <tr>\n",
       "      <th>2020-03-23 12:28:00</th>\n",
       "      <td>-127</td>\n",
       "      <td>21.6250</td>\n",
       "      <td>22.8125</td>\n",
       "      <td>22.8125</td>\n",
       "      <td>85.0</td>\n",
       "      <td>22.75</td>\n",
       "      <td>22.6875</td>\n",
       "      <td>22.1</td>\n",
       "      <td>22.2</td>\n",
       "      <td>22.2</td>\n",
       "      <td>22.2</td>\n",
       "      <td>22.2</td>\n",
       "      <td>21.0</td>\n",
       "      <td>21.0</td>\n",
       "    </tr>\n",
       "    <tr>\n",
       "      <th>2020-03-23 12:27:00</th>\n",
       "      <td>-127</td>\n",
       "      <td>85.0000</td>\n",
       "      <td>22.8125</td>\n",
       "      <td>22.8125</td>\n",
       "      <td>85.0</td>\n",
       "      <td>22.75</td>\n",
       "      <td>22.6875</td>\n",
       "      <td>22.2</td>\n",
       "      <td>22.3</td>\n",
       "      <td>22.3</td>\n",
       "      <td>22.4</td>\n",
       "      <td>22.3</td>\n",
       "      <td>21.1</td>\n",
       "      <td>21.1</td>\n",
       "    </tr>\n",
       "    <tr>\n",
       "      <th>2020-03-23 12:25:00</th>\n",
       "      <td>-127</td>\n",
       "      <td>21.5625</td>\n",
       "      <td>22.8750</td>\n",
       "      <td>22.8125</td>\n",
       "      <td>85.0</td>\n",
       "      <td>22.75</td>\n",
       "      <td>22.6875</td>\n",
       "      <td>22.3</td>\n",
       "      <td>22.4</td>\n",
       "      <td>22.4</td>\n",
       "      <td>22.4</td>\n",
       "      <td>22.4</td>\n",
       "      <td>21.1</td>\n",
       "      <td>21.2</td>\n",
       "    </tr>\n",
       "    <tr>\n",
       "      <th>2020-03-23 12:24:00</th>\n",
       "      <td>-127</td>\n",
       "      <td>21.6250</td>\n",
       "      <td>22.8750</td>\n",
       "      <td>22.8125</td>\n",
       "      <td>85.0</td>\n",
       "      <td>22.75</td>\n",
       "      <td>22.6875</td>\n",
       "      <td>22.3</td>\n",
       "      <td>22.4</td>\n",
       "      <td>22.5</td>\n",
       "      <td>22.5</td>\n",
       "      <td>22.5</td>\n",
       "      <td>21.2</td>\n",
       "      <td>21.2</td>\n",
       "    </tr>\n",
       "    <tr>\n",
       "      <th>...</th>\n",
       "      <td>...</td>\n",
       "      <td>...</td>\n",
       "      <td>...</td>\n",
       "      <td>...</td>\n",
       "      <td>...</td>\n",
       "      <td>...</td>\n",
       "      <td>...</td>\n",
       "      <td>...</td>\n",
       "      <td>...</td>\n",
       "      <td>...</td>\n",
       "      <td>...</td>\n",
       "      <td>...</td>\n",
       "      <td>...</td>\n",
       "      <td>...</td>\n",
       "    </tr>\n",
       "    <tr>\n",
       "      <th>2020-03-22 16:34:00</th>\n",
       "      <td>-127</td>\n",
       "      <td>85.0000</td>\n",
       "      <td>22.8750</td>\n",
       "      <td>22.8750</td>\n",
       "      <td>85.0</td>\n",
       "      <td>22.75</td>\n",
       "      <td>22.6875</td>\n",
       "      <td>22.4</td>\n",
       "      <td>22.6</td>\n",
       "      <td>22.6</td>\n",
       "      <td>22.7</td>\n",
       "      <td>22.6</td>\n",
       "      <td>21.3</td>\n",
       "      <td>21.2</td>\n",
       "    </tr>\n",
       "    <tr>\n",
       "      <th>2020-03-22 16:33:00</th>\n",
       "      <td>-127</td>\n",
       "      <td>85.0000</td>\n",
       "      <td>22.8750</td>\n",
       "      <td>22.8125</td>\n",
       "      <td>85.0</td>\n",
       "      <td>22.75</td>\n",
       "      <td>22.6875</td>\n",
       "      <td>22.5</td>\n",
       "      <td>22.6</td>\n",
       "      <td>22.6</td>\n",
       "      <td>22.7</td>\n",
       "      <td>22.7</td>\n",
       "      <td>21.3</td>\n",
       "      <td>21.2</td>\n",
       "    </tr>\n",
       "    <tr>\n",
       "      <th>2020-03-22 16:32:00</th>\n",
       "      <td>-127</td>\n",
       "      <td>85.0000</td>\n",
       "      <td>22.8750</td>\n",
       "      <td>22.8125</td>\n",
       "      <td>85.0</td>\n",
       "      <td>22.75</td>\n",
       "      <td>22.6875</td>\n",
       "      <td>22.4</td>\n",
       "      <td>22.5</td>\n",
       "      <td>22.5</td>\n",
       "      <td>22.7</td>\n",
       "      <td>22.6</td>\n",
       "      <td>21.3</td>\n",
       "      <td>21.2</td>\n",
       "    </tr>\n",
       "    <tr>\n",
       "      <th>2020-03-22 16:31:00</th>\n",
       "      <td>-127</td>\n",
       "      <td>85.0000</td>\n",
       "      <td>22.8750</td>\n",
       "      <td>22.8750</td>\n",
       "      <td>85.0</td>\n",
       "      <td>22.75</td>\n",
       "      <td>22.6875</td>\n",
       "      <td>22.5</td>\n",
       "      <td>22.6</td>\n",
       "      <td>22.6</td>\n",
       "      <td>22.7</td>\n",
       "      <td>22.7</td>\n",
       "      <td>21.3</td>\n",
       "      <td>21.2</td>\n",
       "    </tr>\n",
       "    <tr>\n",
       "      <th>2020-03-22 16:30:00</th>\n",
       "      <td>-127</td>\n",
       "      <td>85.0000</td>\n",
       "      <td>22.8750</td>\n",
       "      <td>22.8125</td>\n",
       "      <td>85.0</td>\n",
       "      <td>22.75</td>\n",
       "      <td>22.6875</td>\n",
       "      <td>22.4</td>\n",
       "      <td>22.6</td>\n",
       "      <td>22.5</td>\n",
       "      <td>22.6</td>\n",
       "      <td>22.6</td>\n",
       "      <td>21.3</td>\n",
       "      <td>21.2</td>\n",
       "    </tr>\n",
       "  </tbody>\n",
       "</table>\n",
       "<p>1158 rows × 14 columns</p>\n",
       "</div>"
      ],
      "text/plain": [
       "                      T1       T2       T3       T4    T5     T6       T7  \\\n",
       "ts                                                                          \n",
       "2020-03-23 12:29:00 -127  21.6250  22.8125  22.8125  85.0  22.75  22.6875   \n",
       "2020-03-23 12:28:00 -127  21.6250  22.8125  22.8125  85.0  22.75  22.6875   \n",
       "2020-03-23 12:27:00 -127  85.0000  22.8125  22.8125  85.0  22.75  22.6875   \n",
       "2020-03-23 12:25:00 -127  21.5625  22.8750  22.8125  85.0  22.75  22.6875   \n",
       "2020-03-23 12:24:00 -127  21.6250  22.8750  22.8125  85.0  22.75  22.6875   \n",
       "...                  ...      ...      ...      ...   ...    ...      ...   \n",
       "2020-03-22 16:34:00 -127  85.0000  22.8750  22.8750  85.0  22.75  22.6875   \n",
       "2020-03-22 16:33:00 -127  85.0000  22.8750  22.8125  85.0  22.75  22.6875   \n",
       "2020-03-22 16:32:00 -127  85.0000  22.8750  22.8125  85.0  22.75  22.6875   \n",
       "2020-03-22 16:31:00 -127  85.0000  22.8750  22.8750  85.0  22.75  22.6875   \n",
       "2020-03-22 16:30:00 -127  85.0000  22.8750  22.8125  85.0  22.75  22.6875   \n",
       "\n",
       "                       A1    A2    A3    A4    A5    A6    A7  \n",
       "ts                                                             \n",
       "2020-03-23 12:29:00  22.0  22.1  22.1  22.1  22.0  20.8  20.8  \n",
       "2020-03-23 12:28:00  22.1  22.2  22.2  22.2  22.2  21.0  21.0  \n",
       "2020-03-23 12:27:00  22.2  22.3  22.3  22.4  22.3  21.1  21.1  \n",
       "2020-03-23 12:25:00  22.3  22.4  22.4  22.4  22.4  21.1  21.2  \n",
       "2020-03-23 12:24:00  22.3  22.4  22.5  22.5  22.5  21.2  21.2  \n",
       "...                   ...   ...   ...   ...   ...   ...   ...  \n",
       "2020-03-22 16:34:00  22.4  22.6  22.6  22.7  22.6  21.3  21.2  \n",
       "2020-03-22 16:33:00  22.5  22.6  22.6  22.7  22.7  21.3  21.2  \n",
       "2020-03-22 16:32:00  22.4  22.5  22.5  22.7  22.6  21.3  21.2  \n",
       "2020-03-22 16:31:00  22.5  22.6  22.6  22.7  22.7  21.3  21.2  \n",
       "2020-03-22 16:30:00  22.4  22.6  22.5  22.6  22.6  21.3  21.2  \n",
       "\n",
       "[1158 rows x 14 columns]"
      ]
     },
     "execution_count": 20,
     "metadata": {},
     "output_type": "execute_result"
    }
   ],
   "source": [
    "datos=importa(archivo1,columnas)\n",
    "datos.index=pd.to_datetime(datos.index,format='%d/%m/%Y  %H:%M')\n",
    "#adquisidor=importa(archivo2,columnas)\n",
    "#adquisidor.index=pd.to_datetime(adquisidor.index,format='%d/%m/%Y  %H:%M')\n",
    "values = [85, 100,-127]\n",
    "datos\n",
    "##a veces estaremos interesados en una ventana especifica de tiempo por lo que estas lineas nos \n",
    "#permiten elegir fecha y hora inicial y final de los datos que deseamos guardar, es necesario respetar\n",
    "# el formato completo para evitar problemas : 'YYYY-MONTH-DD HH:MM:SS' ejemplo: fecha1 = '2020-March-23 16:30:00'\n",
    "#fecha1 = '2020-03-22 16:30:00'\n",
    "#fecha2 = '2020-03-23 12:30:00'\n",
    "#datos[fecha1:fecha2]\n",
    "\n",
    "\n",
    "#datos=datos[fecha1:fecha2]\n",
    "#datos.to_csv('filtrados.csv')"
   ]
  },
  {
   "cell_type": "code",
   "execution_count": 36,
   "metadata": {},
   "outputs": [
    {
     "name": "stdout",
     "output_type": "stream",
     "text": [
      "1154\n",
      "1154\n",
      "1154\n",
      "1154\n",
      "1154\n"
     ]
    }
   ],
   "source": [
    "#solo se eliminan 4 datos\n",
    "values = [85, 100,-127]\n",
    "datos=datos[datos.T3.isin(values) == False]\n",
    "print(len(datos))\n",
    "datos=datos[datos.T4.isin(values) == False]\n",
    "print(len(datos))\n",
    "#datos=datos[datos.T5.isin(values) == False]\n",
    "print(len(datos))\n",
    "datos=datos[datos.T6.isin(values) == False]\n",
    "print(len(datos))\n",
    "datos=datos[datos.T7.isin(values) == False]\n",
    "print(len(datos))\n"
   ]
  },
  {
   "cell_type": "code",
   "execution_count": 42,
   "metadata": {
    "scrolled": true
   },
   "outputs": [
    {
     "data": {
      "image/png": "[encoded data removed]",
      "text/plain": [
       "<Figure size 432x288 with 1 Axes>"
      ]
     },
     "metadata": {
      "needs_background": "light"
     },
     "output_type": "display_data"
    },
    {
     "name": "stdout",
     "output_type": "stream",
     "text": [
      "m: 0.6438113652160333 b: 7.938686142401678\n"
     ]
    },
    {
     "data": {
      "image/png": "[encoded data removed]",
      "text/plain": [
       "<Figure size 432x288 with 1 Axes>"
      ]
     },
     "metadata": {
      "needs_background": "light"
     },
     "output_type": "display_data"
    },
    {
     "name": "stdout",
     "output_type": "stream",
     "text": [
      "m: 0.08991995862902889 b: 20.820762198951716\n"
     ]
    }
   ],
   "source": [
    "\n",
    "m,b = polyfit(datos.T3, datos.A3, 1) \n",
    "\n",
    "plot(datos.T3, datos.A3, 'yo', datos.T3, m*datos.T3+b, '--k') \n",
    "\n",
    "plt.title('Sensor 3')\n",
    "plt.xlabel('arduino')\n",
    "plt.ylabel('adquisidor')\n",
    "show() \n",
    "print('m:',m,'b:',b)\n",
    "\n",
    "\n",
    "m,b = polyfit(datos.A3, datos.T3, 1)\n",
    "plot(datos.A3, datos.T3, 'yo', datos.A3, m*datos.A3+b, '--k',) \n",
    "plt.title('Sensor 3')\n",
    "plt.ylabel('arduino')\n",
    "plt.xlabel('adquisidor')\n",
    "show() \n",
    "print('m:',m,'b:',b)\n"
   ]
  },
  {
   "cell_type": "code",
   "execution_count": 43,
   "metadata": {
    "scrolled": true
   },
   "outputs": [
    {
     "data": {
      "image/png": "[encoded data removed]",
      "text/plain": [
       "<Figure size 432x288 with 1 Axes>"
      ]
     },
     "metadata": {
      "needs_background": "light"
     },
     "output_type": "display_data"
    },
    {
     "name": "stdout",
     "output_type": "stream",
     "text": [
      "m: -0.2553688544226076 b: 28.613279716634235\n"
     ]
    },
    {
     "data": {
      "image/png": "[encoded data removed]",
      "text/plain": [
       "<Figure size 432x288 with 1 Axes>"
      ]
     },
     "metadata": {
      "needs_background": "light"
     },
     "output_type": "display_data"
    },
    {
     "name": "stdout",
     "output_type": "stream",
     "text": [
      "m: -0.009361970742614849 b: 23.031186538531518\n"
     ]
    }
   ],
   "source": [
    "m,b = polyfit(datos.T4, datos.A4, 1) \n",
    "\n",
    "plot(datos.T4, datos.A4, 'yo', datos.T4, m*datos.T4+b, '--k') \n",
    "\n",
    "plt.title('Sensor 4')\n",
    "plt.xlabel('arduino')\n",
    "plt.ylabel('aadquisidor')\n",
    "show() \n",
    "print('m:',m,'b:',b)\n",
    "\n",
    "\n",
    "m,b = polyfit(datos.A4, datos.T4, 1)\n",
    "plot(datos.A4, datos.T4, 'yo', datos.A4, m*datos.A4+b, '--k',) \n",
    "plt.title('Sensor 4')\n",
    "plt.ylabel('arduino')\n",
    "plt.xlabel('aadquisidor')\n",
    "show() \n",
    "print('m:',m,'b:',b)"
   ]
  },
  {
   "cell_type": "code",
   "execution_count": 28,
   "metadata": {
    "scrolled": true
   },
   "outputs": [
    {
     "name": "stdout",
     "output_type": "stream",
     "text": [
      "m: 0.07581974968806514 b: 19.69196064107288\n"
     ]
    },
    {
     "data": {
      "image/png": "[encoded data removed]",
      "text/plain": [
       "<Figure size 432x288 with 1 Axes>"
      ]
     },
     "metadata": {
      "needs_background": "light"
     },
     "output_type": "display_data"
    },
    {
     "name": "stdout",
     "output_type": "stream",
     "text": [
      "m: 0.0011266055251997291 b: 22.7240845382195\n"
     ]
    },
    {
     "data": {
      "image/png": "[encoded data removed]",
      "text/plain": [
       "<Figure size 432x288 with 1 Axes>"
      ]
     },
     "metadata": {
      "needs_background": "light"
     },
     "output_type": "display_data"
    }
   ],
   "source": [
    "m,b = polyfit(datos.T6, datos.A6, 1) \n",
    "\n",
    "plot(datos.T6, datos.A6, 'yo', datos.T6, m*datos.T6+b, '--k') \n",
    "print('m:',m,'b:',b)\n",
    "show() \n",
    "\n",
    "m,b = polyfit(datos.A6, datos.T6, 1) \n",
    "\n",
    "plot(datos.A6, datos.T6, 'yo', datos.A6, m*datos.A6+b, '--k') \n",
    "print('m:',m,'b:',b)\n",
    "show() "
   ]
  },
  {
   "cell_type": "code",
   "execution_count": 29,
   "metadata": {},
   "outputs": [
    {
     "name": "stdout",
     "output_type": "stream",
     "text": [
      "m: 0.47046389774225617 b: 10.65949263133838\n"
     ]
    },
    {
     "data": {
      "image/png": "[encoded data removed]",
      "text/plain": [
       "<Figure size 432x288 with 1 Axes>"
      ]
     },
     "metadata": {
      "needs_background": "light"
     },
     "output_type": "display_data"
    },
    {
     "name": "stdout",
     "output_type": "stream",
     "text": [
      "m: 0.021644984666255807 b: 22.220008413296995\n"
     ]
    },
    {
     "data": {
      "image/png": "[encoded data removed]",
      "text/plain": [
       "<Figure size 432x288 with 1 Axes>"
      ]
     },
     "metadata": {
      "needs_background": "light"
     },
     "output_type": "display_data"
    }
   ],
   "source": [
    "m,b = polyfit(datos.T7, datos.A7, 1) \n",
    "\n",
    "plot(datos.T7, datos.A7, 'yo', datos.T7, m*datos.T7+b, '--k') \n",
    "print('m:',m,'b:',b)\n",
    "show() \n",
    "\n",
    "m,b = polyfit(datos.A7, datos.T7, 1) \n",
    "\n",
    "plot(datos.A7, datos.T7, 'yo', datos.A7, m*datos.A7+b, '--k') \n",
    "print('m:',m,'b:',b)\n",
    "show() "
   ]
  },
  {
   "cell_type": "code",
   "execution_count": null,
   "metadata": {
    "scrolled": true
   },
   "outputs": [],
   "source": [
    "#Estas lineas nos permiten importar todos los datos que se enviaron bajo una misma etiqueta\n",
    "#se pueden estipular los nombres que se vean mas convenientes para las variables pero se recomienda\n",
    "#continuar con el formato de ejemplo para no requerir mayor edición mas adelante\n",
    "A01 = datos.T1\n",
    "A02 = datos.T2\n",
    "A03 = datos.T3\n",
    "A04 = datos.T4\n",
    "A05 = datos.T5\n",
    "A06 = datos.T6\n",
    "A07 = datos.T7\n",
    "\n",
    "AD01 = datos.A1\n",
    "AD02 = datos.A2\n",
    "AD03 = datos.A3\n",
    "AD04 = datos.A4\n",
    "AD05 = datos.A5\n",
    "AD06 = datos.A6\n",
    "AD07 = datos.A7\n",
    "\n",
    "\n",
    "#las siguientes lineas crean una grafica con los datos importados anteriormente y respetando las fechas\n",
    "#solicitadas,  para cambiar las fechas es necesario volver a correr todas las celdas\n",
    "import matplotlib.colors as colors\n",
    "colores = list(colors._colors_full_map.values())\n"
   ]
  },
  {
   "cell_type": "code",
   "execution_count": null,
   "metadata": {
    "scrolled": false
   },
   "outputs": [],
   "source": [
    "#datos_og=len(A01)\n",
    "#A01= A01[A01.isin(values) == False]\n",
    "#datos_dep=len(A01)\n",
    "#borrados=datos_og-datos_dep\n",
    "#print('datos borrados:',borrados,'de ',datos_og,'datos totales del prototipo')\n",
    "p = figure(title=\"Temperaturas Sensor 1\", x_axis_label='Adquisidor', y_axis_label='prototipo [\\xb0 C]')\n",
    "p.scatter(x=AD03,y=A03,color=colores[8],legend_label='S3')\n",
    "#p.scatter(x=A01.index,y=A01,color=colores[9],legend_label='Prototipo')\n",
    "#p.legend.location = \"bottom_right\"\n",
    "show(p)"
   ]
  },
  {
   "cell_type": "code",
   "execution_count": null,
   "metadata": {},
   "outputs": [],
   "source": []
  },
  {
   "cell_type": "code",
   "execution_count": null,
   "metadata": {
    "scrolled": false
   },
   "outputs": [],
   "source": [
    "datos_og=len(A02)\n",
    "A02= A02[A02.isin(values) == False]\n",
    "datos_dep=len(A02)\n",
    "borrados=datos_og-datos_dep\n",
    "print('datos borrados:',borrados,'de ',datos_og,'datos totales del prototipo')\n",
    "p = figure(title=\"Temperaturas Sensor 2\", x_axis_label='tiempo', y_axis_label='Temperatura [\\xb0 C]',x_axis_type='datetime')\n",
    "p.scatter(x=AD02.index,y=AD02,color=colores[8],legend_label='Adquisidor')\n",
    "p.scatter(x=A02.index,y=A02,color=colores[9],legend_label='Prototipo')\n",
    "p.legend.location = \"bottom_right\"\n",
    "show(p)\n"
   ]
  },
  {
   "cell_type": "code",
   "execution_count": null,
   "metadata": {},
   "outputs": [],
   "source": [
    "datos_og=len(A03)\n",
    "#A03= A03[A03.isin(values) == False]\n",
    "datos_dep=len(A03)\n",
    "borrados=datos_og-datos_dep\n",
    "print('datos borrados:',borrados,'de ',datos_og,'datos totales del prototipo')\n",
    "p = figure(title=\"Temperaturas Sensor 3\", x_axis_label='tiempo', y_axis_label='Temperatura [\\xb0 C]',x_axis_type='datetime')\n",
    "p.scatter(x=AD03.index,y=A03,color=colores[8],legend_label='Adquisidor')\n",
    "#p.scatter(x=A03.index,y=A03,color=colores[9],legend_label='Prototipo')\n",
    "p.legend.location = \"bottom_right\"\n",
    "show(p)"
   ]
  },
  {
   "cell_type": "code",
   "execution_count": null,
   "metadata": {},
   "outputs": [],
   "source": [
    "datos_originales=len(A03)\n",
    "#A03= A03[A03.isin(values) == False]\n",
    "datos_depurados=len(A03)\n",
    "print('datos borrados:',datos_originales-datos_depurados)\n",
    "p = figure(title=\"Temperaturas Sensor 3\", x_axis_label='tiempo', y_axis_label='Temperatura [\\xb0 C]',x_axis_type='datetime')\n",
    "p.scatter(x=AD03.index,y=A03,color=colores[8],legend_label='Adquisidor')\n",
    "p.scatter(x=A03.index,y=A03,color=colores[9],legend_label='Prototipo')\n",
    "p.legend.location = \"bottom_right\"\n",
    "show(p)"
   ]
  },
  {
   "cell_type": "code",
   "execution_count": null,
   "metadata": {
    "scrolled": false
   },
   "outputs": [],
   "source": [
    "datos_og=len(A04)\n",
    "#A04= A04[A04.isin(values) == False]\n",
    "datos_dep=len(A04)\n",
    "borrados=datos_og-datos_dep\n",
    "print('datos borrados:',borrados,'de ',datos_og,'datos totales del prototipo')\n",
    "p = figure(title=\"Temperaturas Sensor 4\", x_axis_label='tiempo', y_axis_label='Temperatura [\\xb0 C]',x_axis_type='datetime')\n",
    "p.scatter(x=AD04.index,y=AD04,color=colores[8],legend_label='Adquisidor')\n",
    "p.scatter(x=A04.index,y=A04,color=colores[9],legend_label='Prototipo')\n",
    "p.legend.location = \"bottom_right\"\n",
    "show(p)"
   ]
  },
  {
   "cell_type": "code",
   "execution_count": null,
   "metadata": {},
   "outputs": [],
   "source": [
    "datos_og=len(A05)\n",
    "A05= A05[A05.isin(values) == False]\n",
    "datos_dep=len(A05)\n",
    "borrados=datos_og-datos_dep\n",
    "print('datos borrados:',borrados,'de ',datos_og,'datos totales del prototipo')\n",
    "p = figure(title=\"Temperaturas Sensor 5\", x_axis_label='tiempo', y_axis_label='Temperatura [\\xb0 C]',x_axis_type='datetime')\n",
    "p.scatter(x=AD05.index,y=AD05,color=colores[8],legend_label='Adquisidor')\n",
    "p.scatter(x=A05.index,y=A05,color=colores[9],legend_label='Prototipo')\n",
    "p.legend.location = \"bottom_right\"\n",
    "show(p)"
   ]
  },
  {
   "cell_type": "code",
   "execution_count": null,
   "metadata": {},
   "outputs": [],
   "source": [
    "datos_og=len(A06)\n",
    "A06= A06[A06.isin(values) == False]\n",
    "datos_dep=len(A06)\n",
    "borrados=datos_og-datos_dep\n",
    "print('datos borrados:',borrados,'de ',datos_og,'datos totales del prototipo')\n",
    "p = figure(title=\"Temperaturas Sensor 6\", x_axis_label='tiempo', y_axis_label='Temperatura [\\xb0 C]',x_axis_type='datetime')\n",
    "p.scatter(x=AD06.index,y=AD06,color=colores[8],legend_label='Adquisidor')\n",
    "p.scatter(x=A06.index,y=A06,color=colores[9],legend_label='Prototipo')\n",
    "p.legend.location = \"bottom_right\"\n",
    "show(p)"
   ]
  },
  {
   "cell_type": "code",
   "execution_count": null,
   "metadata": {},
   "outputs": [],
   "source": [
    "datos_og=len(A07)\n",
    "A07= A07[A07.isin(values) == False]\n",
    "datos_dep=len(A07)\n",
    "borrados=datos_og-datos_dep\n",
    "print('datos borrados:',borrados,'de ',datos_og,'datos totales del prototipo')\n",
    "p = figure(title=\"Temperaturas Sensor 7\", x_axis_label='tiempo', y_axis_label='Temperatura [\\xb0 C]',x_axis_type='datetime')\n",
    "p.scatter(x=AD07.index,y=AD07,color=colores[8],legend_label='Adquisidor')\n",
    "p.scatter(x=A07.index,y=A07,color=colores[9],legend_label='Prototipo')\n",
    "p.legend.location = \"bottom_right\"\n",
    "show(p)"
   ]
  },
  {
   "cell_type": "code",
   "execution_count": null,
   "metadata": {},
   "outputs": [],
   "source": []
  },
  {
   "cell_type": "code",
   "execution_count": null,
   "metadata": {},
   "outputs": [],
   "source": [
    "dif01=A01-AD01\n",
    "dif02=A02-AD02\n",
    "dif03=A03-AD03\n",
    "dif04=A04-AD04\n",
    "dif05=A05-AD05\n",
    "dif06=A06-AD06\n",
    "dif07=A07-AD07"
   ]
  },
  {
   "cell_type": "code",
   "execution_count": null,
   "metadata": {},
   "outputs": [],
   "source": [
    "plt.plot(dif03)\n",
    "plt.plot(dif04)\n",
    "plt.plot(dif06)\n",
    "plt.plot(dif07)"
   ]
  },
  {
   "cell_type": "code",
   "execution_count": null,
   "metadata": {},
   "outputs": [],
   "source": [
    "fig, ax=plt.subplots(2,2,figsize=(8,8),sharey=True)\n",
    "\n",
    "fig.tight_layout(h_pad=4, w_pad=4)\n",
    "ax[0,0].plot(dif03)\n",
    "ax[0,1].plot(dif04)\n",
    "ax[1,0].plot(dif06)\n",
    "ax[1,1].plot(dif07)\n",
    "\n",
    "ax[0, 0].set_title(\"S_1\")\n",
    "ax[0, 1].set_title(\"S_2\")\n",
    "ax[1, 0].set_title(\"S_3\")\n",
    "ax[1, 1].set_title(\"S_4\")\n",
    "\n",
    "\n",
    "ax[0, 0].set_ylabel('Temperatura [°C]')\n",
    "ax[0, 1].set_ylabel('Temperatura [°C]')\n",
    "ax[1, 0].set_ylabel('Temperatura [°C]')\n",
    "ax[1, 1].set_ylabel('Temperatura [°C]')\n",
    "\n",
    "ax[0, 0].set_xlabel('Tiempo')\n",
    "ax[0, 1].set_xlabel('Tiempo')\n",
    "ax[1, 0].set_xlabel('Tiempo')\n",
    "ax[1, 1].set_xlabel('Tiempo')"
   ]
  },
  {
   "cell_type": "code",
   "execution_count": null,
   "metadata": {},
   "outputs": [],
   "source": [
    "plt.lot"
   ]
  },
  {
   "cell_type": "code",
   "execution_count": null,
   "metadata": {},
   "outputs": [],
   "source": [
    "print(abs(dif03).mean())\n",
    "print(dif03.mean())\n"
   ]
  },
  {
   "cell_type": "code",
   "execution_count": null,
   "metadata": {},
   "outputs": [],
   "source": [
    "print(abs(dif04).mean())\n",
    "print(dif04.mean())"
   ]
  },
  {
   "cell_type": "code",
   "execution_count": null,
   "metadata": {},
   "outputs": [],
   "source": [
    "print(abs(datos.T3-datos.A3).mean())\n",
    "print(abs(datos.T3-datos.A3).std())"
   ]
  },
  {
   "cell_type": "code",
   "execution_count": null,
   "metadata": {},
   "outputs": [],
   "source": [
    "print(abs(datos.T4-datos.A4).mean())\n",
    "print(abs(datos.T4-datos.A4).std())"
   ]
  },
  {
   "cell_type": "code",
   "execution_count": null,
   "metadata": {},
   "outputs": [],
   "source": []
  }
 ],
 "metadata": {
  "kernelspec": {
   "display_name": "Python 3 (ipykernel)",
   "language": "python",
   "name": "python3"
  },
  "language_info": {
   "codemirror_mode": {
    "name": "ipython",
    "version": 3
   },
   "file_extension": ".py",
   "mimetype": "text/x-python",
   "name": "python",
   "nbconvert_exporter": "python",
   "pygments_lexer": "ipython3",
   "version": "3.9.7"
  }
 },
 "nbformat": 4,
 "nbformat_minor": 2
}
